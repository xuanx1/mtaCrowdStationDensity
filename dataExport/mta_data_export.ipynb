{
 "cells": [
  {
   "cell_type": "markdown",
   "metadata": {},
   "source": [
    "## MTA Ridership 2023\n",
    "Spotting peak destination and origin stations, and potential clusters of stations with high ridership.\n",
    "Database has been 'cleaned' beforehand, before exporting from data.ny.gov, reducing file size and removing repetitive columns with similar info but differnt format.\n",
    "\n",
    "test with query by api / cloud sql for year data - expand scope, then join population density with station density, normalised as crowd(divided-by)/station index (the closer to 1 the better), based on min and max values - then derive districts that are underserved/ overserved (using conditions 0.1 - 0.5 - 0.8) underserved - optimally served - overserved \n",
    "\n",
    "ref: https://github.com/mebauer/mta-data/blob/main/data-exporter.py"
   ]
  },
  {
   "cell_type": "code",
   "execution_count": null,
   "metadata": {},
   "outputs": [
    {
     "name": "stdout",
     "output_type": "stream",
     "text": [
      "Defaulting to user installation because normal site-packages is not writeableNote: you may need to restart the kernel to use updated packages.\n",
      "\n",
      "Collecting duckdb\n",
      "  Downloading duckdb-1.1.3-cp312-cp312-win_amd64.whl.metadata (781 bytes)\n",
      "Downloading duckdb-1.1.3-cp312-cp312-win_amd64.whl (11.0 MB)\n",
      "   ---------------------------------------- 0.0/11.0 MB ? eta -:--:--\n",
      "   ----------- ---------------------------- 3.1/11.0 MB 15.3 MB/s eta 0:00:01\n",
      "   ---------------------- ----------------- 6.0/11.0 MB 15.4 MB/s eta 0:00:01\n",
      "   ---------------------------------- ----- 9.4/11.0 MB 15.4 MB/s eta 0:00:01\n",
      "   ---------------------------------------- 11.0/11.0 MB 14.9 MB/s eta 0:00:00\n",
      "Installing collected packages: duckdb\n",
      "Successfully installed duckdb-1.1.3\n"
     ]
    },
    {
     "name": "stderr",
     "output_type": "stream",
     "text": [
      "\n",
      "[notice] A new release of pip is available: 24.2 -> 24.3.1\n",
      "[notice] To update, run: python.exe -m pip install --upgrade pip\n"
     ]
    },
    {
     "data": {
      "application/vnd.jupyter.widget-view+json": {
       "model_id": "a627165c86fd49b9b1a4a9dc9247e793",
       "version_major": 2,
       "version_minor": 0
      },
      "text/plain": [
       "FloatProgress(value=0.0, layout=Layout(width='auto'), style=ProgressStyle(bar_color='black'))"
      ]
     },
     "metadata": {},
     "output_type": "display_data"
    }
   ],
   "source": [
    "%pip install duckdb\n",
    "\n",
    "import pandas as pd\n",
    "import duckdb\n",
    "from datetime import datetime\n",
    "import time\n",
    "\n",
    "export_log = \"export-log.txt\"\n",
    "api_base = \"https://data.ny.gov/resource/uhf3-t34z.csv\"\n",
    "db_file = \"subway-trips.db\"\n",
    "\n",
    "limit = 1_000_000\n",
    "offset = 0\n",
    "\n",
    "# Function to log messages\n",
    "def log_message(message: str) -> None:\n",
    "    \"\"\"Log messages with timestamp.\"\"\"\n",
    "    with open(export_log, 'a') as file:\n",
    "        file.write(f\"{datetime.now().strftime('%Y-%m-%d %H:%M:%S')},{message}\\n\")\n",
    "\n",
    "with duckdb.connect(db_file) as con:\n",
    "    \n",
    "    while True:\n",
    "        \n",
    "        api_path = f\"{api_base}?$limit={limit}&$offset={offset}&$order=:id\"\n",
    "        log_message(f\"Fetching data from: {api_path}\")\n",
    "        \n",
    "        try:\n",
    "            df = pd.read_csv(api_path)\n",
    "            rows = df.shape[0]\n",
    "            \n",
    "            if offset == 0:\n",
    "                # Create the table if it's the first chunk\n",
    "                con.execute(\"CREATE TABLE trips AS SELECT * FROM df\")\n",
    "            else:\n",
    "                # Insert data into the existing table\n",
    "                con.execute(\"INSERT INTO trips SELECT * FROM df\")\n",
    "\n",
    "            if rows < limit:\n",
    "                # If fewer rows than limit, we are done\n",
    "                log_message(\"Finished processing all data.\")\n",
    "                break\n",
    "\n",
    "            # Update offset for the next batch\n",
    "            offset += limit\n",
    "\n",
    "            # Sleep to avoid hitting rate limits\n",
    "            time.sleep(10)\n",
    "            \n",
    "        except Exception as e:\n",
    "            log_message(f\"Error reading data: {e}\")\n",
    "            break\n"
   ]
  }
 ],
 "metadata": {
  "kernelspec": {
   "display_name": "Python 3",
   "language": "python",
   "name": "python3"
  },
  "language_info": {
   "codemirror_mode": {
    "name": "ipython",
    "version": 3
   },
   "file_extension": ".py",
   "mimetype": "text/x-python",
   "name": "python",
   "nbconvert_exporter": "python",
   "pygments_lexer": "ipython3",
   "version": "3.12.5"
  }
 },
 "nbformat": 4,
 "nbformat_minor": 4
}
